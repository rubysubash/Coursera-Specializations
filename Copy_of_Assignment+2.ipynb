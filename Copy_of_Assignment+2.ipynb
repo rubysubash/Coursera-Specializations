{
  "nbformat": 4,
  "nbformat_minor": 0,
  "metadata": {
    "anaconda-cloud": {},
    "coursera": {
      "course_slug": "python-data-analysis",
      "graded_item_id": "tHmgx",
      "launcher_item_id": "Um6Bz",
      "part_id": "OQsnr"
    },
    "kernelspec": {
      "display_name": "Python 3",
      "language": "python",
      "name": "python3"
    },
    "language_info": {
      "codemirror_mode": {
        "name": "ipython",
        "version": 3
      },
      "file_extension": ".py",
      "mimetype": "text/x-python",
      "name": "python",
      "nbconvert_exporter": "python",
      "pygments_lexer": "ipython3",
      "version": "3.5.2"
    },
    "colab": {
      "name": "Copy of Assignment+2.ipynb",
      "provenance": [],
      "include_colab_link": true
    }
  },
  "cells": [
    {
      "cell_type": "markdown",
      "metadata": {
        "id": "view-in-github",
        "colab_type": "text"
      },
      "source": [
        "<a href=\"https://colab.research.google.com/github/rubysubash/Coursera-Specializations/blob/master/Copy_of_Assignment%2B2.ipynb\" target=\"_parent\"><img src=\"https://colab.research.google.com/assets/colab-badge.svg\" alt=\"Open In Colab\"/></a>"
      ]
    },
    {
      "cell_type": "markdown",
      "metadata": {
        "id": "Ooj6-bfK7RfW",
        "colab_type": "text"
      },
      "source": [
        "---\n",
        "\n",
        "_You are currently looking at **version 1.0** of this notebook. To download notebooks and datafiles, as well as get help on Jupyter notebooks in the Coursera platform, visit the [Jupyter Notebook FAQ](https://www.coursera.org/learn/python-data-analysis/resources/0dhYG) course resource._\n",
        "\n",
        "---"
      ]
    },
    {
      "cell_type": "markdown",
      "metadata": {
        "id": "Db7QdjVq7RfZ",
        "colab_type": "text"
      },
      "source": [
        "# Assignment 2 - Pandas Introduction\n",
        "All questions are weighted the same in this assignment.\n",
        "## Part 1\n",
        "The following code loads the olympics dataset (olympics.csv), which was derrived from the Wikipedia entry on [All Time Olympic Games Medals](https://en.wikipedia.org/wiki/All-time_Olympic_Games_medal_table), and does some basic data cleaning. Use this dataset to answer the questions below."
      ]
    },
    {
      "cell_type": "code",
      "metadata": {
        "nbgrader": {
          "grade": false,
          "grade_id": "1",
          "locked": false,
          "solution": false
        },
        "id": "LY4V8yiI7Rfc",
        "colab_type": "code",
        "outputId": "417ab60a-f07f-4463-9e9b-a89b165008a1",
        "colab": {
          "base_uri": "https://localhost:8080/",
          "height": 442
        }
      },
      "source": [
        "import pandas as pd\n",
        "\n",
        "df = pd.read_csv('olympics.csv', index_col=0, skiprows=1)\n",
        "\n",
        "for col in df.columns:\n",
        "    if col[:2]=='01':\n",
        "        df.rename(columns={col:'Gold'+col[4:]}, inplace=True)\n",
        "    if col[:2]=='02':\n",
        "        df.rename(columns={col:'Silver'+col[4:]}, inplace=True)\n",
        "    if col[:2]=='03':\n",
        "        df.rename(columns={col:'Bronze'+col[4:]}, inplace=True)\n",
        "    if col[:1]=='№':\n",
        "        df.rename(columns={col:'#'+col[1:]}, inplace=True)\n",
        "\n",
        "names_ids = df.index.str.split('\\s\\(') # split the index by '('\n",
        "\n",
        "df.index = names_ids.str[0] # the [0] element is the country name (new index) \n",
        "df['ID'] = names_ids.str[1].str[:3] # the [1] element is the abbreviation or ID (take first 3 characters from that)\n",
        "\n",
        "df = df.drop('Totals')\n",
        "df.head()"
      ],
      "execution_count": 0,
      "outputs": [
        {
          "output_type": "error",
          "ename": "FileNotFoundError",
          "evalue": "ignored",
          "traceback": [
            "\u001b[0;31m---------------------------------------------------------------------------\u001b[0m",
            "\u001b[0;31mFileNotFoundError\u001b[0m                         Traceback (most recent call last)",
            "\u001b[0;32m<ipython-input-3-a8993569bb91>\u001b[0m in \u001b[0;36m<module>\u001b[0;34m()\u001b[0m\n\u001b[1;32m      1\u001b[0m \u001b[0;32mimport\u001b[0m \u001b[0mpandas\u001b[0m \u001b[0;32mas\u001b[0m \u001b[0mpd\u001b[0m\u001b[0;34m\u001b[0m\u001b[0;34m\u001b[0m\u001b[0m\n\u001b[1;32m      2\u001b[0m \u001b[0;34m\u001b[0m\u001b[0m\n\u001b[0;32m----> 3\u001b[0;31m \u001b[0mdf\u001b[0m \u001b[0;34m=\u001b[0m \u001b[0mpd\u001b[0m\u001b[0;34m.\u001b[0m\u001b[0mread_csv\u001b[0m\u001b[0;34m(\u001b[0m\u001b[0;34m'olympics.csv'\u001b[0m\u001b[0;34m,\u001b[0m \u001b[0mindex_col\u001b[0m\u001b[0;34m=\u001b[0m\u001b[0;36m0\u001b[0m\u001b[0;34m,\u001b[0m \u001b[0mskiprows\u001b[0m\u001b[0;34m=\u001b[0m\u001b[0;36m1\u001b[0m\u001b[0;34m)\u001b[0m\u001b[0;34m\u001b[0m\u001b[0;34m\u001b[0m\u001b[0m\n\u001b[0m\u001b[1;32m      4\u001b[0m \u001b[0;34m\u001b[0m\u001b[0m\n\u001b[1;32m      5\u001b[0m \u001b[0;32mfor\u001b[0m \u001b[0mcol\u001b[0m \u001b[0;32min\u001b[0m \u001b[0mdf\u001b[0m\u001b[0;34m.\u001b[0m\u001b[0mcolumns\u001b[0m\u001b[0;34m:\u001b[0m\u001b[0;34m\u001b[0m\u001b[0;34m\u001b[0m\u001b[0m\n",
            "\u001b[0;32m/usr/local/lib/python3.6/dist-packages/pandas/io/parsers.py\u001b[0m in \u001b[0;36mparser_f\u001b[0;34m(filepath_or_buffer, sep, delimiter, header, names, index_col, usecols, squeeze, prefix, mangle_dupe_cols, dtype, engine, converters, true_values, false_values, skipinitialspace, skiprows, skipfooter, nrows, na_values, keep_default_na, na_filter, verbose, skip_blank_lines, parse_dates, infer_datetime_format, keep_date_col, date_parser, dayfirst, cache_dates, iterator, chunksize, compression, thousands, decimal, lineterminator, quotechar, quoting, doublequote, escapechar, comment, encoding, dialect, error_bad_lines, warn_bad_lines, delim_whitespace, low_memory, memory_map, float_precision)\u001b[0m\n\u001b[1;32m    674\u001b[0m         )\n\u001b[1;32m    675\u001b[0m \u001b[0;34m\u001b[0m\u001b[0m\n\u001b[0;32m--> 676\u001b[0;31m         \u001b[0;32mreturn\u001b[0m \u001b[0m_read\u001b[0m\u001b[0;34m(\u001b[0m\u001b[0mfilepath_or_buffer\u001b[0m\u001b[0;34m,\u001b[0m \u001b[0mkwds\u001b[0m\u001b[0;34m)\u001b[0m\u001b[0;34m\u001b[0m\u001b[0;34m\u001b[0m\u001b[0m\n\u001b[0m\u001b[1;32m    677\u001b[0m \u001b[0;34m\u001b[0m\u001b[0m\n\u001b[1;32m    678\u001b[0m     \u001b[0mparser_f\u001b[0m\u001b[0;34m.\u001b[0m\u001b[0m__name__\u001b[0m \u001b[0;34m=\u001b[0m \u001b[0mname\u001b[0m\u001b[0;34m\u001b[0m\u001b[0;34m\u001b[0m\u001b[0m\n",
            "\u001b[0;32m/usr/local/lib/python3.6/dist-packages/pandas/io/parsers.py\u001b[0m in \u001b[0;36m_read\u001b[0;34m(filepath_or_buffer, kwds)\u001b[0m\n\u001b[1;32m    446\u001b[0m \u001b[0;34m\u001b[0m\u001b[0m\n\u001b[1;32m    447\u001b[0m     \u001b[0;31m# Create the parser.\u001b[0m\u001b[0;34m\u001b[0m\u001b[0;34m\u001b[0m\u001b[0;34m\u001b[0m\u001b[0m\n\u001b[0;32m--> 448\u001b[0;31m     \u001b[0mparser\u001b[0m \u001b[0;34m=\u001b[0m \u001b[0mTextFileReader\u001b[0m\u001b[0;34m(\u001b[0m\u001b[0mfp_or_buf\u001b[0m\u001b[0;34m,\u001b[0m \u001b[0;34m**\u001b[0m\u001b[0mkwds\u001b[0m\u001b[0;34m)\u001b[0m\u001b[0;34m\u001b[0m\u001b[0;34m\u001b[0m\u001b[0m\n\u001b[0m\u001b[1;32m    449\u001b[0m \u001b[0;34m\u001b[0m\u001b[0m\n\u001b[1;32m    450\u001b[0m     \u001b[0;32mif\u001b[0m \u001b[0mchunksize\u001b[0m \u001b[0;32mor\u001b[0m \u001b[0miterator\u001b[0m\u001b[0;34m:\u001b[0m\u001b[0;34m\u001b[0m\u001b[0;34m\u001b[0m\u001b[0m\n",
            "\u001b[0;32m/usr/local/lib/python3.6/dist-packages/pandas/io/parsers.py\u001b[0m in \u001b[0;36m__init__\u001b[0;34m(self, f, engine, **kwds)\u001b[0m\n\u001b[1;32m    878\u001b[0m             \u001b[0mself\u001b[0m\u001b[0;34m.\u001b[0m\u001b[0moptions\u001b[0m\u001b[0;34m[\u001b[0m\u001b[0;34m\"has_index_names\"\u001b[0m\u001b[0;34m]\u001b[0m \u001b[0;34m=\u001b[0m \u001b[0mkwds\u001b[0m\u001b[0;34m[\u001b[0m\u001b[0;34m\"has_index_names\"\u001b[0m\u001b[0;34m]\u001b[0m\u001b[0;34m\u001b[0m\u001b[0;34m\u001b[0m\u001b[0m\n\u001b[1;32m    879\u001b[0m \u001b[0;34m\u001b[0m\u001b[0m\n\u001b[0;32m--> 880\u001b[0;31m         \u001b[0mself\u001b[0m\u001b[0;34m.\u001b[0m\u001b[0m_make_engine\u001b[0m\u001b[0;34m(\u001b[0m\u001b[0mself\u001b[0m\u001b[0;34m.\u001b[0m\u001b[0mengine\u001b[0m\u001b[0;34m)\u001b[0m\u001b[0;34m\u001b[0m\u001b[0;34m\u001b[0m\u001b[0m\n\u001b[0m\u001b[1;32m    881\u001b[0m \u001b[0;34m\u001b[0m\u001b[0m\n\u001b[1;32m    882\u001b[0m     \u001b[0;32mdef\u001b[0m \u001b[0mclose\u001b[0m\u001b[0;34m(\u001b[0m\u001b[0mself\u001b[0m\u001b[0;34m)\u001b[0m\u001b[0;34m:\u001b[0m\u001b[0;34m\u001b[0m\u001b[0;34m\u001b[0m\u001b[0m\n",
            "\u001b[0;32m/usr/local/lib/python3.6/dist-packages/pandas/io/parsers.py\u001b[0m in \u001b[0;36m_make_engine\u001b[0;34m(self, engine)\u001b[0m\n\u001b[1;32m   1112\u001b[0m     \u001b[0;32mdef\u001b[0m \u001b[0m_make_engine\u001b[0m\u001b[0;34m(\u001b[0m\u001b[0mself\u001b[0m\u001b[0;34m,\u001b[0m \u001b[0mengine\u001b[0m\u001b[0;34m=\u001b[0m\u001b[0;34m\"c\"\u001b[0m\u001b[0;34m)\u001b[0m\u001b[0;34m:\u001b[0m\u001b[0;34m\u001b[0m\u001b[0;34m\u001b[0m\u001b[0m\n\u001b[1;32m   1113\u001b[0m         \u001b[0;32mif\u001b[0m \u001b[0mengine\u001b[0m \u001b[0;34m==\u001b[0m \u001b[0;34m\"c\"\u001b[0m\u001b[0;34m:\u001b[0m\u001b[0;34m\u001b[0m\u001b[0;34m\u001b[0m\u001b[0m\n\u001b[0;32m-> 1114\u001b[0;31m             \u001b[0mself\u001b[0m\u001b[0;34m.\u001b[0m\u001b[0m_engine\u001b[0m \u001b[0;34m=\u001b[0m \u001b[0mCParserWrapper\u001b[0m\u001b[0;34m(\u001b[0m\u001b[0mself\u001b[0m\u001b[0;34m.\u001b[0m\u001b[0mf\u001b[0m\u001b[0;34m,\u001b[0m \u001b[0;34m**\u001b[0m\u001b[0mself\u001b[0m\u001b[0;34m.\u001b[0m\u001b[0moptions\u001b[0m\u001b[0;34m)\u001b[0m\u001b[0;34m\u001b[0m\u001b[0;34m\u001b[0m\u001b[0m\n\u001b[0m\u001b[1;32m   1115\u001b[0m         \u001b[0;32melse\u001b[0m\u001b[0;34m:\u001b[0m\u001b[0;34m\u001b[0m\u001b[0;34m\u001b[0m\u001b[0m\n\u001b[1;32m   1116\u001b[0m             \u001b[0;32mif\u001b[0m \u001b[0mengine\u001b[0m \u001b[0;34m==\u001b[0m \u001b[0;34m\"python\"\u001b[0m\u001b[0;34m:\u001b[0m\u001b[0;34m\u001b[0m\u001b[0;34m\u001b[0m\u001b[0m\n",
            "\u001b[0;32m/usr/local/lib/python3.6/dist-packages/pandas/io/parsers.py\u001b[0m in \u001b[0;36m__init__\u001b[0;34m(self, src, **kwds)\u001b[0m\n\u001b[1;32m   1889\u001b[0m         \u001b[0mkwds\u001b[0m\u001b[0;34m[\u001b[0m\u001b[0;34m\"usecols\"\u001b[0m\u001b[0;34m]\u001b[0m \u001b[0;34m=\u001b[0m \u001b[0mself\u001b[0m\u001b[0;34m.\u001b[0m\u001b[0musecols\u001b[0m\u001b[0;34m\u001b[0m\u001b[0;34m\u001b[0m\u001b[0m\n\u001b[1;32m   1890\u001b[0m \u001b[0;34m\u001b[0m\u001b[0m\n\u001b[0;32m-> 1891\u001b[0;31m         \u001b[0mself\u001b[0m\u001b[0;34m.\u001b[0m\u001b[0m_reader\u001b[0m \u001b[0;34m=\u001b[0m \u001b[0mparsers\u001b[0m\u001b[0;34m.\u001b[0m\u001b[0mTextReader\u001b[0m\u001b[0;34m(\u001b[0m\u001b[0msrc\u001b[0m\u001b[0;34m,\u001b[0m \u001b[0;34m**\u001b[0m\u001b[0mkwds\u001b[0m\u001b[0;34m)\u001b[0m\u001b[0;34m\u001b[0m\u001b[0;34m\u001b[0m\u001b[0m\n\u001b[0m\u001b[1;32m   1892\u001b[0m         \u001b[0mself\u001b[0m\u001b[0;34m.\u001b[0m\u001b[0munnamed_cols\u001b[0m \u001b[0;34m=\u001b[0m \u001b[0mself\u001b[0m\u001b[0;34m.\u001b[0m\u001b[0m_reader\u001b[0m\u001b[0;34m.\u001b[0m\u001b[0munnamed_cols\u001b[0m\u001b[0;34m\u001b[0m\u001b[0;34m\u001b[0m\u001b[0m\n\u001b[1;32m   1893\u001b[0m \u001b[0;34m\u001b[0m\u001b[0m\n",
            "\u001b[0;32mpandas/_libs/parsers.pyx\u001b[0m in \u001b[0;36mpandas._libs.parsers.TextReader.__cinit__\u001b[0;34m()\u001b[0m\n",
            "\u001b[0;32mpandas/_libs/parsers.pyx\u001b[0m in \u001b[0;36mpandas._libs.parsers.TextReader._setup_parser_source\u001b[0;34m()\u001b[0m\n",
            "\u001b[0;31mFileNotFoundError\u001b[0m: [Errno 2] File olympics.csv does not exist: 'olympics.csv'"
          ]
        }
      ]
    },
    {
      "cell_type": "markdown",
      "metadata": {
        "id": "pz-mxYmT7Rfq",
        "colab_type": "text"
      },
      "source": [
        "### Question 0 (Example)\n",
        "\n",
        "What is the first country in df?\n",
        "\n",
        "*This function should return a Series.*"
      ]
    },
    {
      "cell_type": "code",
      "metadata": {
        "id": "Mofh_aur7Rft",
        "colab_type": "code",
        "outputId": "e466f97a-c6d3-4d11-f685-220b0fba9b30",
        "colab": {}
      },
      "source": [
        "# You should write your whole answer within the function provided. The autograder will call\n",
        "# this function and compare the return value against the correct solution value\n",
        "def answer_zero():\n",
        "    # This function returns the row for Afghanistan, which is a Series object. The assignment\n",
        "    # question description will tell you the general format the autograder is expecting\n",
        "    return df.iloc[0]\n",
        "\n",
        "# You can examine what your function returns by calling it in the cell. If you have questions\n",
        "# about the assignment formats, check out the discussion forums for any FAQs\n",
        "answer_zero() "
      ],
      "execution_count": 0,
      "outputs": [
        {
          "output_type": "execute_result",
          "data": {
            "text/plain": [
              "# Summer           13\n",
              "Gold                0\n",
              "Silver              0\n",
              "Bronze              2\n",
              "Total               2\n",
              "# Winter            0\n",
              "Gold.1              0\n",
              "Silver.1            0\n",
              "Bronze.1            0\n",
              "Total.1             0\n",
              "# Games            13\n",
              "Gold.2              0\n",
              "Silver.2            0\n",
              "Bronze.2            2\n",
              "Combined total      2\n",
              "ID                AFG\n",
              "Name: Afghanistan, dtype: object"
            ]
          },
          "metadata": {
            "tags": []
          },
          "execution_count": 110
        }
      ]
    },
    {
      "cell_type": "markdown",
      "metadata": {
        "id": "COdis0Pw7Rf2",
        "colab_type": "text"
      },
      "source": [
        "### Question 1\n",
        "Which country has won the most gold medals in summer games?\n",
        "\n",
        "*This function should return a single string value.*"
      ]
    },
    {
      "cell_type": "code",
      "metadata": {
        "nbgrader": {
          "grade": false,
          "locked": false,
          "solution": false
        },
        "id": "pYUaZ14Y7Rf4",
        "colab_type": "code",
        "outputId": "bc2db70d-291c-4f7c-ecfa-7f7adfb71d80",
        "colab": {}
      },
      "source": [
        "\n",
        "def answer_one():\n",
        "    x = max(df['Gold'])\n",
        "    ans = df[df['Gold'] == x].index.tolist()\n",
        "    return ans[0]\n",
        "\n",
        "answer_one()\n",
        "\n",
        "#Method: 2\n",
        "#def answer_one():\n",
        " #   return df[df.Gold == df.Gold.max()].index.tolist()\n",
        "#answer_one()"
      ],
      "execution_count": 0,
      "outputs": [
        {
          "output_type": "execute_result",
          "data": {
            "text/plain": [
              "'United States'"
            ]
          },
          "metadata": {
            "tags": []
          },
          "execution_count": 111
        }
      ]
    },
    {
      "cell_type": "markdown",
      "metadata": {
        "id": "0x71j-uY7RgF",
        "colab_type": "text"
      },
      "source": [
        "### Question 2\n",
        "Which country had the biggest difference between their summer and winter gold medal counts?\n",
        "\n",
        "*This function should return a single string value.*"
      ]
    },
    {
      "cell_type": "code",
      "metadata": {
        "id": "FF3WHa5w7RgI",
        "colab_type": "code",
        "outputId": "6ee7ae09-f824-45de-8c67-9fda32425c36",
        "colab": {}
      },
      "source": [
        "# Pandas Index.tolist() function return a list of the values. These are each a\n",
        "# scalar type,which is a Python scalar (for str, int, float) or a pandas scalar \n",
        "# (for Timestamp/Timedelta/Interval/Period).\n",
        "def answer_two():\n",
        "    x = max(df['Gold'] - df['Gold.1'])\n",
        "    ans = df[(df['Gold'] - df['Gold.1']) == x].index.tolist()\n",
        "    return ans[0]\n",
        "\n",
        "answer_two()"
      ],
      "execution_count": 0,
      "outputs": [
        {
          "output_type": "execute_result",
          "data": {
            "text/plain": [
              "'United States'"
            ]
          },
          "metadata": {
            "tags": []
          },
          "execution_count": 112
        }
      ]
    },
    {
      "cell_type": "markdown",
      "metadata": {
        "id": "qQCpXF7p7RgU",
        "colab_type": "text"
      },
      "source": [
        "### Question 3\n",
        "Which country has the biggest difference between their summer and winter gold medal counts relative to their total gold medal count? Only include countries that have won at least 1 gold in both summer and winter.\n",
        "\n",
        "*This function should return a single string value.*"
      ]
    },
    {
      "cell_type": "code",
      "metadata": {
        "id": "moA-C6WZ7RgY",
        "colab_type": "code",
        "outputId": "58b0e15b-2fd0-4c5f-ceb2-57a254afed2f",
        "colab": {}
      },
      "source": [
        "#The idxmax() function is used to get the row label of the maximum value. If multiple values equal the maximum,\n",
        "# the first row label with that value is returned. Exclude NA/null values. If the entire Series is NA, the result will be NA.\n",
        "def answer_three():\n",
        "    df_gold = df[(df['Gold']>0) & (df['Gold.1']>0)]\n",
        "    df_max_diff = (abs(df_gold['Gold']-df_gold['Gold.1'])/df_gold['Gold.2'])\n",
        "    return df_max_diff.idxmax()\n",
        "\n",
        "answer_three()"
      ],
      "execution_count": 0,
      "outputs": [
        {
          "output_type": "execute_result",
          "data": {
            "text/plain": [
              "'Bulgaria'"
            ]
          },
          "metadata": {
            "tags": []
          },
          "execution_count": 113
        }
      ]
    },
    {
      "cell_type": "markdown",
      "metadata": {
        "id": "4zCWCqEI7Rgk",
        "colab_type": "text"
      },
      "source": [
        "### Question 4\n",
        "Write a function to update the dataframe to include a new column called \"Points\" which is a weighted value where each gold medal counts for 3 points, silver medals for 2 points, and bronze mdeals for 1 point. The function should return only the column (a Series object) which you created.\n",
        "\n",
        "*This function should return a Series named `Points` of length 146*"
      ]
    },
    {
      "cell_type": "code",
      "metadata": {
        "id": "zmIzr-R97Rgo",
        "colab_type": "code",
        "outputId": "92e3aae2-214d-4534-c2a7-b17bb1a803a5",
        "colab": {}
      },
      "source": [
        "def answer_four():\n",
        "    Points = 3*df['Gold.2'] + 2*df['Silver.2'] + 1*df['Bronze.2']\n",
        "    return Points\n",
        "\n",
        "answer_four()"
      ],
      "execution_count": 0,
      "outputs": [
        {
          "output_type": "execute_result",
          "data": {
            "text/plain": [
              "Afghanistan                            2\n",
              "Algeria                               27\n",
              "Argentina                            130\n",
              "Armenia                               16\n",
              "Australasia                           22\n",
              "Australia                            923\n",
              "Austria                              569\n",
              "Azerbaijan                            43\n",
              "Bahamas                               24\n",
              "Bahrain                                1\n",
              "Barbados                               1\n",
              "Belarus                              154\n",
              "Belgium                              276\n",
              "Bermuda                                1\n",
              "Bohemia                                5\n",
              "Botswana                               2\n",
              "Brazil                               184\n",
              "British West Indies                    2\n",
              "Bulgaria                             411\n",
              "Burundi                                3\n",
              "Cameroon                              12\n",
              "Canada                               846\n",
              "Chile                                 24\n",
              "China                               1120\n",
              "Colombia                              29\n",
              "Costa Rica                             7\n",
              "Ivory Coast                            2\n",
              "Croatia                               67\n",
              "Cuba                                 420\n",
              "Cyprus                                 2\n",
              "                                    ... \n",
              "Spain                                268\n",
              "Sri Lanka                              4\n",
              "Sudan                                  2\n",
              "Suriname                               4\n",
              "Sweden                              1217\n",
              "Switzerland                          630\n",
              "Syria                                  6\n",
              "Chinese Taipei                        32\n",
              "Tajikistan                             4\n",
              "Tanzania                               4\n",
              "Thailand                              44\n",
              "Togo                                   1\n",
              "Tonga                                  2\n",
              "Trinidad and Tobago                   27\n",
              "Tunisia                               19\n",
              "Turkey                               191\n",
              "Uganda                                14\n",
              "Ukraine                              220\n",
              "United Arab Emirates                   3\n",
              "United States                       5684\n",
              "Uruguay                               16\n",
              "Uzbekistan                            38\n",
              "Venezuela                             18\n",
              "Vietnam                                4\n",
              "Virgin Islands                         2\n",
              "Yugoslavia                           171\n",
              "Independent Olympic Participants       4\n",
              "Zambia                                 3\n",
              "Zimbabwe                              18\n",
              "Mixed team                            38\n",
              "dtype: int64"
            ]
          },
          "metadata": {
            "tags": []
          },
          "execution_count": 120
        }
      ]
    },
    {
      "cell_type": "markdown",
      "metadata": {
        "id": "UUeuoXx67Rg1",
        "colab_type": "text"
      },
      "source": [
        "## Part 2\n",
        "For the next set of questions, we will be using census data from the [United States Census Bureau](http://www.census.gov/popest/data/counties/totals/2015/CO-EST2015-alldata.html). Counties are political and geographic subdivisions of states in the United States. This dataset contains population data for counties and states in the US from 2010 to 2015. [See this document](http://www.census.gov/popest/data/counties/totals/2015/files/CO-EST2015-alldata.pdf) for a description of the variable names.\n",
        "\n",
        "The census dataset (census.csv) should be loaded as census_df. Answer questions using this as appropriate.\n",
        "\n",
        "### Question 5\n",
        "Which state has the most counties in it? (hint: consider the sumlevel key carefully! You'll need this for future questions too...)\n",
        "\n",
        "*This function should return a single string value.*"
      ]
    },
    {
      "cell_type": "code",
      "metadata": {
        "id": "IaliIAwY7Rg3",
        "colab_type": "code",
        "outputId": "019d98ed-3d5e-4ae0-8f5f-bab280b83111",
        "colab": {
          "base_uri": "https://localhost:8080/",
          "height": 180
        }
      },
      "source": [
        "census_df = pd.read_csv('census.csv')\n",
        "census_df.head()"
      ],
      "execution_count": 0,
      "outputs": [
        {
          "output_type": "error",
          "ename": "NameError",
          "evalue": "ignored",
          "traceback": [
            "\u001b[0;31m---------------------------------------------------------------------------\u001b[0m",
            "\u001b[0;31mNameError\u001b[0m                                 Traceback (most recent call last)",
            "\u001b[0;32m<ipython-input-2-72882347bd6c>\u001b[0m in \u001b[0;36m<module>\u001b[0;34m()\u001b[0m\n\u001b[0;32m----> 1\u001b[0;31m \u001b[0mcensus_df\u001b[0m \u001b[0;34m=\u001b[0m \u001b[0mpd\u001b[0m\u001b[0;34m.\u001b[0m\u001b[0mread_csv\u001b[0m\u001b[0;34m(\u001b[0m\u001b[0;34m'census.csv'\u001b[0m\u001b[0;34m)\u001b[0m\u001b[0;34m\u001b[0m\u001b[0;34m\u001b[0m\u001b[0m\n\u001b[0m\u001b[1;32m      2\u001b[0m \u001b[0mcensus_df\u001b[0m\u001b[0;34m.\u001b[0m\u001b[0mhead\u001b[0m\u001b[0;34m(\u001b[0m\u001b[0;34m)\u001b[0m\u001b[0;34m\u001b[0m\u001b[0;34m\u001b[0m\u001b[0m\n",
            "\u001b[0;31mNameError\u001b[0m: name 'pd' is not defined"
          ]
        }
      ]
    },
    {
      "cell_type": "code",
      "metadata": {
        "id": "7l3G4xuj7RhF",
        "colab_type": "code",
        "outputId": "234cfed5-31d3-494f-81db-605b3d4b5430",
        "colab": {}
      },
      "source": [
        "def answer_five():\n",
        "    counties_df = census_df[census_df['SUMLEV'] == 50]\n",
        "    x = counties_df.groupby('STNAME').count()['SUMLEV']\n",
        "     # after creating a df based on criteria (==50)no need to use counties_df[counties_df.groupby('STNAME')], can use just counties_df.groupby('STNAME')\n",
        "    # count()['SUMLEV'] is used to count based on ['SUMLEV'] only, if given only count(), Texas is printed multiple times \n",
        "    ans = x.idxmax()\n",
        "    return ans\n",
        "\n",
        "answer_five()\n"
      ],
      "execution_count": 0,
      "outputs": [
        {
          "output_type": "execute_result",
          "data": {
            "text/plain": [
              "'Texas'"
            ]
          },
          "metadata": {
            "tags": []
          },
          "execution_count": 56
        }
      ]
    },
    {
      "cell_type": "markdown",
      "metadata": {
        "id": "xogbm0q-7RhQ",
        "colab_type": "text"
      },
      "source": [
        "### Question 6\n",
        "Only looking at the three most populous counties for each state, what are the three most populous states (in order of highest population to lowest population)?\n",
        "\n",
        "*This function should return a list of string values.*"
      ]
    },
    {
      "cell_type": "code",
      "metadata": {
        "id": "S3Wy8Q1Z7RhR",
        "colab_type": "code",
        "outputId": "dc353794-8ef6-42f4-c2db-d25234cabc68",
        "colab": {}
      },
      "source": [
        "def answer_six():\n",
        "    counties_df = census_df[census_df['SUMLEV'] == 50]\n",
        "    #since it is given as, \"Only looking at the three most populous counties for each state\", we have to first find top_counties and then again sort.\n",
        "    top_counties_df = counties_df.sort_values(by=['STNAME','CENSUS2010POP'],ascending=False).groupby('STNAME').head(3)\n",
        "    ans = top_counties_df.groupby('STNAME').sum().sort_values(by='CENSUS2010POP').head(3).index.tolist()\n",
        "    return ans\n",
        "answer_six()"
      ],
      "execution_count": 0,
      "outputs": [
        {
          "output_type": "execute_result",
          "data": {
            "text/plain": [
              "['Wyoming', 'Vermont', 'North Dakota']"
            ]
          },
          "metadata": {
            "tags": []
          },
          "execution_count": 76
        }
      ]
    },
    {
      "cell_type": "markdown",
      "metadata": {
        "id": "vOihV-7R7Rha",
        "colab_type": "text"
      },
      "source": [
        "### Question 7\n",
        "Which county has had the largest change in population within the five year period (hint: population values are stored in columns POPESTIMATE2010 through POPESTIMATE2015, you need to consider all five columns)?\n",
        "\n",
        "*This function should return a single string value.*"
      ]
    },
    {
      "cell_type": "code",
      "metadata": {
        "id": "37US3bGw7Rhc",
        "colab_type": "code",
        "outputId": "8d83d634-c350-4cfc-b3ee-eef71aa385dd",
        "colab": {
          "base_uri": "https://localhost:8080/",
          "height": 336
        }
      },
      "source": [
        "def answer_seven():\n",
        "    counties_df = census_df[census_df['SUMLEV'] == 50]\n",
        "    counties_df['pop_change'] = abs(counties_df['POPESTIMATE2015'] - counties_df['POPESTIMATE2014'])+abs(counties_df['POPESTIMATE2014'] - counties_df['POPESTIMATE2013'])+abs(counties_df['POPESTIMATE2013'] - counties_df['POPESTIMATE2012'])+abs(counties_df['POPESTIMATE2012'] - counties_df['POPESTIMATE2011'])+abs(counties_df['POPESTIMATE2011'] - counties_df['POPESTIMATE2010'])\n",
        "    a = max(counties_df['pop_change'])\n",
        "    ans = counties_df['CTYNAME'][counties_df['pop_change']==a].tolist()\n",
        "    return ans[0]\n",
        "\n",
        "\n",
        "answer_seven()\n",
        "\n",
        "# Correct output: 'Harris County'"
      ],
      "execution_count": 0,
      "outputs": [
        {
          "output_type": "error",
          "ename": "NameError",
          "evalue": "ignored",
          "traceback": [
            "\u001b[0;31m---------------------------------------------------------------------------\u001b[0m",
            "\u001b[0;31mNameError\u001b[0m                                 Traceback (most recent call last)",
            "\u001b[0;32m<ipython-input-1-aab3dc9d69b8>\u001b[0m in \u001b[0;36m<module>\u001b[0;34m()\u001b[0m\n\u001b[1;32m      7\u001b[0m \u001b[0;34m\u001b[0m\u001b[0m\n\u001b[1;32m      8\u001b[0m \u001b[0;34m\u001b[0m\u001b[0m\n\u001b[0;32m----> 9\u001b[0;31m \u001b[0manswer_seven\u001b[0m\u001b[0;34m(\u001b[0m\u001b[0;34m)\u001b[0m\u001b[0;34m\u001b[0m\u001b[0;34m\u001b[0m\u001b[0m\n\u001b[0m",
            "\u001b[0;32m<ipython-input-1-aab3dc9d69b8>\u001b[0m in \u001b[0;36manswer_seven\u001b[0;34m()\u001b[0m\n\u001b[1;32m      1\u001b[0m \u001b[0;32mdef\u001b[0m \u001b[0manswer_seven\u001b[0m\u001b[0;34m(\u001b[0m\u001b[0;34m)\u001b[0m\u001b[0;34m:\u001b[0m\u001b[0;34m\u001b[0m\u001b[0;34m\u001b[0m\u001b[0m\n\u001b[0;32m----> 2\u001b[0;31m     \u001b[0mcounties_df\u001b[0m \u001b[0;34m=\u001b[0m \u001b[0mcensus_df\u001b[0m\u001b[0;34m[\u001b[0m\u001b[0mcensus_df\u001b[0m\u001b[0;34m[\u001b[0m\u001b[0;34m'SUMLEV'\u001b[0m\u001b[0;34m]\u001b[0m \u001b[0;34m==\u001b[0m \u001b[0;36m50\u001b[0m\u001b[0;34m]\u001b[0m\u001b[0;34m\u001b[0m\u001b[0;34m\u001b[0m\u001b[0m\n\u001b[0m\u001b[1;32m      3\u001b[0m     \u001b[0mcounties_df\u001b[0m\u001b[0;34m[\u001b[0m\u001b[0;34m'pop_change'\u001b[0m\u001b[0;34m]\u001b[0m \u001b[0;34m=\u001b[0m \u001b[0mabs\u001b[0m\u001b[0;34m(\u001b[0m\u001b[0mcounties_df\u001b[0m\u001b[0;34m[\u001b[0m\u001b[0;34m'POPESTIMATE2015'\u001b[0m\u001b[0;34m]\u001b[0m \u001b[0;34m-\u001b[0m \u001b[0mcounties_df\u001b[0m\u001b[0;34m[\u001b[0m\u001b[0;34m'POPESTIMATE2014'\u001b[0m\u001b[0;34m]\u001b[0m\u001b[0;34m)\u001b[0m\u001b[0;34m+\u001b[0m\u001b[0mabs\u001b[0m\u001b[0;34m(\u001b[0m\u001b[0mcounties_df\u001b[0m\u001b[0;34m[\u001b[0m\u001b[0;34m'POPESTIMATE2014'\u001b[0m\u001b[0;34m]\u001b[0m \u001b[0;34m-\u001b[0m \u001b[0mcounties_df\u001b[0m\u001b[0;34m[\u001b[0m\u001b[0;34m'POPESTIMATE2013'\u001b[0m\u001b[0;34m]\u001b[0m\u001b[0;34m)\u001b[0m\u001b[0;34m+\u001b[0m\u001b[0mabs\u001b[0m\u001b[0;34m(\u001b[0m\u001b[0mcounties_df\u001b[0m\u001b[0;34m[\u001b[0m\u001b[0;34m'POPESTIMATE2013'\u001b[0m\u001b[0;34m]\u001b[0m \u001b[0;34m-\u001b[0m \u001b[0mcounties_df\u001b[0m\u001b[0;34m[\u001b[0m\u001b[0;34m'POPESTIMATE2012'\u001b[0m\u001b[0;34m]\u001b[0m\u001b[0;34m)\u001b[0m\u001b[0;34m+\u001b[0m\u001b[0mabs\u001b[0m\u001b[0;34m(\u001b[0m\u001b[0mcounties_df\u001b[0m\u001b[0;34m[\u001b[0m\u001b[0;34m'POPESTIMATE2012'\u001b[0m\u001b[0;34m]\u001b[0m \u001b[0;34m-\u001b[0m \u001b[0mcounties_df\u001b[0m\u001b[0;34m[\u001b[0m\u001b[0;34m'POPESTIMATE2011'\u001b[0m\u001b[0;34m]\u001b[0m\u001b[0;34m)\u001b[0m\u001b[0;34m+\u001b[0m\u001b[0mabs\u001b[0m\u001b[0;34m(\u001b[0m\u001b[0mcounties_df\u001b[0m\u001b[0;34m[\u001b[0m\u001b[0;34m'POPESTIMATE2011'\u001b[0m\u001b[0;34m]\u001b[0m \u001b[0;34m-\u001b[0m \u001b[0mcounties_df\u001b[0m\u001b[0;34m[\u001b[0m\u001b[0;34m'POPESTIMATE2010'\u001b[0m\u001b[0;34m]\u001b[0m\u001b[0;34m)\u001b[0m\u001b[0;34m\u001b[0m\u001b[0;34m\u001b[0m\u001b[0m\n\u001b[1;32m      4\u001b[0m     \u001b[0ma\u001b[0m \u001b[0;34m=\u001b[0m \u001b[0mmax\u001b[0m\u001b[0;34m(\u001b[0m\u001b[0mcounties_df\u001b[0m\u001b[0;34m[\u001b[0m\u001b[0;34m'pop_change'\u001b[0m\u001b[0;34m]\u001b[0m\u001b[0;34m)\u001b[0m\u001b[0;34m\u001b[0m\u001b[0;34m\u001b[0m\u001b[0m\n\u001b[1;32m      5\u001b[0m     \u001b[0mans\u001b[0m \u001b[0;34m=\u001b[0m \u001b[0mcounties_df\u001b[0m\u001b[0;34m[\u001b[0m\u001b[0;34m'CTYNAME'\u001b[0m\u001b[0;34m]\u001b[0m\u001b[0;34m[\u001b[0m\u001b[0mcounties_df\u001b[0m\u001b[0;34m[\u001b[0m\u001b[0;34m'pop_change'\u001b[0m\u001b[0;34m]\u001b[0m\u001b[0;34m==\u001b[0m\u001b[0ma\u001b[0m\u001b[0;34m]\u001b[0m\u001b[0;34m.\u001b[0m\u001b[0mtolist\u001b[0m\u001b[0;34m(\u001b[0m\u001b[0;34m)\u001b[0m\u001b[0;34m\u001b[0m\u001b[0;34m\u001b[0m\u001b[0m\n",
            "\u001b[0;31mNameError\u001b[0m: name 'census_df' is not defined"
          ]
        }
      ]
    },
    {
      "cell_type": "markdown",
      "metadata": {
        "id": "hsiAwv577Rhn",
        "colab_type": "text"
      },
      "source": [
        "### Question 8\n",
        "In this datafile, the United States is broken up into four regions using the \"REGION\" column. \n",
        "\n",
        "Create a query that finds the counties that belong to regions 1 or 2, whose name starts with 'Washington', and whose POPESTIMATE2015 was greater than their POPESTIMATE 2014.\n",
        "\n",
        "*This function should return a 5x2 DataFrame with the columns = ['STNAME', 'CTYNAME'] and the same index ID as the census_df (sorted ascending by index).*"
      ]
    },
    {
      "cell_type": "code",
      "metadata": {
        "id": "bXA4hlew7Rhp",
        "colab_type": "code",
        "outputId": "e095c89c-7a23-4435-9321-7f2ecee01e46",
        "colab": {}
      },
      "source": [
        "def answer_eight():\n",
        "    counties_df = census_df[census_df['SUMLEV'] == 50]\n",
        "    ans = counties_df[((counties_df['REGION']==1)|(counties_df['REGION']==2))&(counties_df['CTYNAME']=='Washington County')&(counties_df['POPESTIMATE2015']>counties_df['POPESTIMATE2014'])][['STNAME','CTYNAME']]\n",
        "    return ans\n",
        "\n",
        "#Method 2\n",
        "#def answer_eight():\n",
        "    #counties_df = census_df[census_df['SUMLEV'] == 50]\n",
        "    #region_df  = counties_df[((counties_df['REGION'] == 1)|(counties_df['REGION'] ==2))]\n",
        "    #washinton_df =region_df[(region_df['CTYNAME']=='Washington County')]\n",
        "    #ans = washinton_df[(washinton_df['POPESTIMATE2015']>washinton_df['POPESTIMATE2014'])][['STNAME', 'CTYNAME']]\n",
        "                              \n",
        "    #return ans\n",
        "#answer_eight()"
      ],
      "execution_count": 0,
      "outputs": [
        {
          "output_type": "execute_result",
          "data": {
            "text/html": [
              "<div>\n",
              "<table border=\"1\" class=\"dataframe\">\n",
              "  <thead>\n",
              "    <tr style=\"text-align: right;\">\n",
              "      <th></th>\n",
              "      <th>STNAME</th>\n",
              "      <th>CTYNAME</th>\n",
              "    </tr>\n",
              "  </thead>\n",
              "  <tbody>\n",
              "    <tr>\n",
              "      <th>896</th>\n",
              "      <td>Iowa</td>\n",
              "      <td>Washington County</td>\n",
              "    </tr>\n",
              "    <tr>\n",
              "      <th>1419</th>\n",
              "      <td>Minnesota</td>\n",
              "      <td>Washington County</td>\n",
              "    </tr>\n",
              "    <tr>\n",
              "      <th>2345</th>\n",
              "      <td>Pennsylvania</td>\n",
              "      <td>Washington County</td>\n",
              "    </tr>\n",
              "    <tr>\n",
              "      <th>2355</th>\n",
              "      <td>Rhode Island</td>\n",
              "      <td>Washington County</td>\n",
              "    </tr>\n",
              "    <tr>\n",
              "      <th>3163</th>\n",
              "      <td>Wisconsin</td>\n",
              "      <td>Washington County</td>\n",
              "    </tr>\n",
              "  </tbody>\n",
              "</table>\n",
              "</div>"
            ],
            "text/plain": [
              "            STNAME            CTYNAME\n",
              "896           Iowa  Washington County\n",
              "1419     Minnesota  Washington County\n",
              "2345  Pennsylvania  Washington County\n",
              "2355  Rhode Island  Washington County\n",
              "3163     Wisconsin  Washington County"
            ]
          },
          "metadata": {
            "tags": []
          },
          "execution_count": 106
        }
      ]
    },
    {
      "cell_type": "code",
      "metadata": {
        "id": "Lo6YFnsm7Rh2",
        "colab_type": "code",
        "colab": {}
      },
      "source": [
        ""
      ],
      "execution_count": 0,
      "outputs": []
    }
  ]
}